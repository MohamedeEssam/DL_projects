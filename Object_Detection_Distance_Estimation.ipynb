{
  "cells": [
    {
      "cell_type": "markdown",
      "metadata": {
        "id": "view-in-github",
        "colab_type": "text"
      },
      "source": [
        "<a href=\"https://colab.research.google.com/github/MohamedeEssam/DL_projects/blob/main/Object_Detection_Distance_Estimation.ipynb\" target=\"_parent\"><img src=\"https://colab.research.google.com/assets/colab-badge.svg\" alt=\"Open In Colab\"/></a>"
      ]
    },
    {
      "cell_type": "code",
      "source": [
        "from google.colab import drive\n",
        "drive.mount('/content/drive')"
      ],
      "metadata": {
        "id": "csoHwcRELx4X"
      },
      "execution_count": null,
      "outputs": []
    },
    {
      "cell_type": "code",
      "execution_count": null,
      "metadata": {
        "id": "FgyxDWXWLqFV",
        "outputId": "974053ef-c925-4a95-c3b6-586503ddfd6e"
      },
      "outputs": [
        {
          "name": "stdout",
          "output_type": "stream",
          "text": [
            "LOADING YOLO\n",
            "YOLO LOADED\n"
          ]
        }
      ],
      "source": [
        "import cv2\n",
        "import numpy as np\n",
        "\n",
        "# Load Yolo\n",
        "print(\"LOADING YOLO\")\n",
        "net = cv2.dnn.readNet(\"weights\\yolov2.weights\", \"cfg\\yolov2.cfg\")\n",
        "#save all the names in file o the list classes\n",
        "classes = []\n",
        "with open(\"lib\\coco.names\", \"r\") as f:\n",
        "    classes = [line.strip() for line in f.readlines()]\n",
        "#get layers of the network\n",
        "layer_names = net.getLayerNames()\n",
        "#Determine the output layer names from the YOLO model \n",
        "output_layers = [layer_names[i - 1] for i in net.getUnconnectedOutLayers()]\n",
        "print(\"YOLO LOADED\")"
      ]
    },
    {
      "cell_type": "markdown",
      "metadata": {
        "id": "9bBPb_tSLqFY"
      },
      "source": [
        "## Function to calculate distance"
      ]
    },
    {
      "cell_type": "code",
      "execution_count": 1,
      "metadata": {
        "id": "YV63Y1ozLqFZ"
      },
      "outputs": [],
      "source": [
        "import math\n",
        "\n",
        "# Function to calculate the distance of object from the camera lense\n",
        "def dist_calculator(startX, startY, endX, endY, box_width, box_height, img_w, img_h):\n",
        "\n",
        "    x_3, y_3 = startX, endY - (box_height / 7)  # top left of the triangle\n",
        "    # assumption: camera is rasied above the ground so considering 90% of the height of the image height\n",
        "    x_1, y_1 = img_w / 2, 0.9 * img_h  # bottom of the triangle\n",
        "    x_2, y_2 = endX, endY - (box_height / 7)  # top right of the triangle\n",
        "\n",
        "    # find the angle between bottom and right point\n",
        "    angle_x1_x2 = math.degrees(math.atan2(x_1 - x_2, y_1 - y_2))\n",
        "    # find the angle between bottom and left point\n",
        "    angle_x1_x3 = math.degrees(math.atan2(x_1 - x_3, y_1 - y_3))\n",
        "\n",
        "    angle_right = 90 + angle_x1_x2\n",
        "    angle_left = 90 - angle_x1_x3\n",
        "\n",
        "    # total angle of view for the bench from bottom center point of the image.\n",
        "    total_angle = angle_right + angle_left\n",
        "\n",
        "    # Object length assumed to be 2 metersin millimeters. This value can automated, based on the type of bench used.\n",
        "    object_length = 2000\n",
        "\n",
        "    distance = (object_length * (1 / total_angle) * 57) / 1000\n",
        "\n",
        "    # print(total_angle)\n",
        "    # print(distance)\n",
        "    return distance\n",
        "\n"
      ]
    },
    {
      "cell_type": "markdown",
      "metadata": {
        "id": "0xUqm1SBLqFZ"
      },
      "source": [
        "## Calculate distance for image "
      ]
    },
    {
      "cell_type": "code",
      "execution_count": null,
      "metadata": {
        "id": "1FavLfywLqFa"
      },
      "outputs": [],
      "source": [
        "# Capture frame-by-frame\n",
        "img = cv2.imread(\"images\\\\bus.jpg\")\n",
        "#     img = cv2.resize(img, None, fx=0.4, fy=0.4)\n",
        "height, width, channels = img.shape\n",
        "\n",
        "# USing blob function of opencv to preprocess image\n",
        "blob = cv2.dnn.blobFromImage(img, 1 / 255.0, (416, 416),\n",
        "    swapRB=True, crop=False)\n",
        "#Detecting objects\n",
        "net.setInput(blob)\n",
        "outs = net.forward(output_layers)\n",
        "\n",
        "# Showing informations on the screen\n",
        "class_ids = []\n",
        "confidences = []\n",
        "boxes = []\n",
        "for out in outs:\n",
        "    for detection in out:\n",
        "        scores = detection[5:]\n",
        "        class_id = np.argmax(scores)\n",
        "        confidence = scores[class_id]\n",
        "        if confidence > 0.5:\n",
        "            # Object detected\n",
        "            center_x = int(detection[0] * width)\n",
        "            center_y = int(detection[1] * height)\n",
        "            w = int(detection[2] * width)\n",
        "            h = int(detection[3] * height)\n",
        "\n",
        "\n",
        "            x1 = int(center_x - w * 0.5)  # Start X coordinate\n",
        "            y1 = int(center_y - h * 0.5)  # Start Y coordinate\n",
        "            x2 = int(center_x + w * 0.5)  # End X coordinate\n",
        "            y2 = int(center_y + h * 0.5)  # End y coordinate\n",
        "\n",
        "\n",
        "\n",
        "            # Rectangle coordinates\n",
        "            x = int(center_x - w / 2)\n",
        "            y = int(center_y - h / 2)\n",
        "\n",
        "            boxes.append([x, y, w, h])\n",
        "            confidences.append(float(confidence))\n",
        "            class_ids.append(class_id)\n",
        "\n",
        "#We use NMS function in opencv to perform Non-maximum Suppression\n",
        "#we give it score threshold and nms threshold as arguments.\n",
        "indexes = cv2.dnn.NMSBoxes(boxes, confidences, 0.5, 0.4)\n",
        "colors = np.random.uniform(0, 255, size=(len(classes), 3))\n",
        "for i in range(len(boxes)):\n",
        "    if i in indexes:\n",
        "        x, y, w, h = boxes[i]\n",
        "        label = str(classes[class_ids[i]])\n",
        "        color = colors[class_ids[i]]\n",
        "        # calc distance\n",
        "        distance = dist_calculator(x1, y1, x2, y2, w, h, width, height)\n",
        "\n",
        "        cv2.rectangle(img, (x, y), (x + w, y + h), color, 2)\n",
        "        cv2.putText(img, \"{0} Distance: {1} mm \".format(label, round(distance, 2)), (x, y -5),cv2.FONT_HERSHEY_SIMPLEX,\n",
        "        1/2, color, 2)\n",
        "\n",
        "cv2.imshow(\"Image\",img)\n",
        "cv2.waitKey(0)\n",
        "cv2.destroyAllWindows()"
      ]
    },
    {
      "cell_type": "markdown",
      "metadata": {
        "id": "VNCksnEiLqFb"
      },
      "source": [
        "## Calculate distance in real time"
      ]
    },
    {
      "cell_type": "code",
      "execution_count": null,
      "metadata": {
        "id": "4FCdYwePLqFb"
      },
      "outputs": [],
      "source": [
        "video_capture = cv2.VideoCapture('images\\\\inference_videos\\\\video_1.mp4')\n",
        "# video_capture = cv2.VideoCapture(0)\n",
        "\n",
        "while True:\n",
        "    # Capture frame-by-frame\n",
        "    re,img = video_capture.read()\n",
        "    img = cv2.resize(img, None, fx=0.4, fy=0.4)\n",
        "    height, width, channels = img.shape\n",
        "\n",
        "    # USing blob function of opencv to preprocess image\n",
        "    blob = cv2.dnn.blobFromImage(img, 1 / 255.0, (416, 416),\n",
        "     swapRB=True, crop=False)\n",
        "    #Detecting objects\n",
        "    net.setInput(blob)\n",
        "    outs = net.forward(output_layers)\n",
        "\n",
        "    # Showing informations on the screen\n",
        "    class_ids = []\n",
        "    confidences = []\n",
        "    boxes = []\n",
        "    for out in outs:\n",
        "        for detection in out:\n",
        "            scores = detection[5:]\n",
        "            class_id = np.argmax(scores)\n",
        "            confidence = scores[class_id]\n",
        "            if confidence > 0.5:\n",
        "                # Object detected\n",
        "                center_x = int(detection[0] * width)\n",
        "                center_y = int(detection[1] * height)\n",
        "                w = int(detection[2] * width)\n",
        "                h = int(detection[3] * height)\n",
        "\n",
        "\n",
        "                x1 = int(center_x - w * 0.5)  # Start X coordinate\n",
        "                y1 = int(center_y - h * 0.5)  # Start Y coordinate\n",
        "                x2 = int(center_x + w * 0.5)  # End X coordinate\n",
        "                y2 = int(center_y + h * 0.5)  # End y coordinate\n",
        "\n",
        "\n",
        "\n",
        "                # Rectangle coordinates\n",
        "                x = int(center_x - w / 2)\n",
        "                y = int(center_y - h / 2)\n",
        "\n",
        "                boxes.append([x, y, w, h])\n",
        "                confidences.append(float(confidence))\n",
        "                class_ids.append(class_id)\n",
        "    \n",
        "    #We use NMS function in opencv to perform Non-maximum Suppression\n",
        "    #we give it score threshold and nms threshold as arguments.\n",
        "    indexes = cv2.dnn.NMSBoxes(boxes, confidences, 0.5, 0.4)\n",
        "    font = cv2.FONT_HERSHEY_SIMPLEX=0\n",
        "    colors = np.random.uniform(0, 255, size=(len(classes), 3))\n",
        "    for i in range(len(boxes)):\n",
        "        if i in indexes:\n",
        "            x, y, w, h = boxes[i]\n",
        "            label = str(classes[class_ids[i]])\n",
        "            color = colors[class_ids[i]]\n",
        "\n",
        "            # calc distance \n",
        "            distance = dist_calculator(x1, y1, x2, y2, w, h, width, height)\n",
        "\n",
        "            cv2.rectangle(img, (x, y), (x + w, y + h), color, 2)\n",
        "            cv2.putText(img, \"{0} Distance: {1} mm \".format(label, round(distance, 2)), (x, y + 30), font, 1/2, color, 2)\n",
        "\n",
        "    cv2.imshow(\"Image\",cv2.resize(img, (800,600)))\n",
        "    if cv2.waitKey(1) & 0xFF == ord('q'):\n",
        "        break\n",
        "video_capture.release()\n",
        "cv2.destroyAllWindows()"
      ]
    },
    {
      "cell_type": "code",
      "execution_count": null,
      "metadata": {
        "id": "Zkqu3-WULqFc"
      },
      "outputs": [],
      "source": []
    }
  ],
  "metadata": {
    "kernelspec": {
      "display_name": "Python 3.9.1 64-bit",
      "language": "python",
      "name": "python3"
    },
    "language_info": {
      "codemirror_mode": {
        "name": "ipython",
        "version": 3
      },
      "file_extension": ".py",
      "mimetype": "text/x-python",
      "name": "python",
      "nbconvert_exporter": "python",
      "pygments_lexer": "ipython3",
      "version": "3.9.1"
    },
    "orig_nbformat": 4,
    "vscode": {
      "interpreter": {
        "hash": "499e57fbcc2b054ca3e641a0b8df8de895409541d5e625ada23b94d2f0d88e9c"
      }
    },
    "colab": {
      "provenance": [],
      "collapsed_sections": [],
      "include_colab_link": true
    }
  },
  "nbformat": 4,
  "nbformat_minor": 0
}